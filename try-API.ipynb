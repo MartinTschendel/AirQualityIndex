{
 "cells": [
  {
   "cell_type": "code",
   "execution_count": 44,
   "metadata": {},
   "outputs": [],
   "source": [
    "import requests\n",
    "import json\n",
    "import pandas as pd"
   ]
  },
  {
   "cell_type": "code",
   "execution_count": 45,
   "metadata": {},
   "outputs": [],
   "source": [
    "response = requests.get('https://api.waqi.info/feed/shanghai/?token=562ea3a50976d7d911c99b21b9fc459f45ef631c')\n",
    "data = response.json()"
   ]
  },
  {
   "cell_type": "code",
   "execution_count": 46,
   "metadata": {},
   "outputs": [
    {
     "data": {
      "text/plain": [
       "{'status': 'ok',\n",
       " 'data': {'aqi': 102,\n",
       "  'idx': 1437,\n",
       "  'attributions': [{'url': 'http://106.37.208.233:20035/emcpublish/',\n",
       "    'name': 'China National Urban air quality real-time publishing platform (全国城市空气质量实时发布平台)'},\n",
       "   {'url': 'https://china.usembassy-china.org.cn/embassy-consulates/shanghai/air-quality-monitor-stateair/',\n",
       "    'name': 'U.S. Consulate Shanghai Air Quality Monitor'},\n",
       "   {'url': 'http://www.semc.gov.cn/',\n",
       "    'name': 'Shanghai Environment Monitoring Center(上海市环境监测中心)'},\n",
       "   {'url': 'https://waqi.info/', 'name': 'World Air Quality Index Project'}],\n",
       "  'city': {'geo': [31.2047372, 121.4489017],\n",
       "   'name': 'Shanghai (上海)',\n",
       "   'url': 'https://aqicn.org/city/shanghai'},\n",
       "  'dominentpol': 'pm25',\n",
       "  'iaqi': {'co': {'v': 8.2},\n",
       "   'no2': {'v': 33},\n",
       "   'o3': {'v': 20.4},\n",
       "   'p': {'v': 1011.2},\n",
       "   'pm10': {'v': 56},\n",
       "   'pm25': {'v': 102},\n",
       "   'so2': {'v': 2.6},\n",
       "   't': {'v': 15.5},\n",
       "   'w': {'v': 0.1}},\n",
       "  'time': {'s': '2019-03-29 21:00:00', 'tz': '+08:00', 'v': 1553893200},\n",
       "  'debug': {'sync': '2019-03-29T23:02:37+09:00'}}}"
      ]
     },
     "execution_count": 46,
     "metadata": {},
     "output_type": "execute_result"
    }
   ],
   "source": [
    "data"
   ]
  },
  {
   "cell_type": "code",
   "execution_count": 47,
   "metadata": {},
   "outputs": [
    {
     "data": {
      "text/plain": [
       "102"
      ]
     },
     "execution_count": 47,
     "metadata": {},
     "output_type": "execute_result"
    }
   ],
   "source": [
    "aqi = data['data']['aqi']\n",
    "aqi"
   ]
  },
  {
   "cell_type": "code",
   "execution_count": 48,
   "metadata": {},
   "outputs": [
    {
     "data": {
      "text/plain": [
       "'Shanghai (上海)'"
      ]
     },
     "execution_count": 48,
     "metadata": {},
     "output_type": "execute_result"
    }
   ],
   "source": [
    "city_name = data['data']['city']['name']\n",
    "city_name"
   ]
  },
  {
   "cell_type": "code",
   "execution_count": 49,
   "metadata": {},
   "outputs": [
    {
     "data": {
      "text/plain": [
       "'2019-03-29 21:00:00'"
      ]
     },
     "execution_count": 49,
     "metadata": {},
     "output_type": "execute_result"
    }
   ],
   "source": [
    "time = data['data']['time']['s']\n",
    "time"
   ]
  },
  {
   "cell_type": "code",
   "execution_count": 53,
   "metadata": {},
   "outputs": [
    {
     "data": {
      "text/html": [
       "<div>\n",
       "<style scoped>\n",
       "    .dataframe tbody tr th:only-of-type {\n",
       "        vertical-align: middle;\n",
       "    }\n",
       "\n",
       "    .dataframe tbody tr th {\n",
       "        vertical-align: top;\n",
       "    }\n",
       "\n",
       "    .dataframe thead th {\n",
       "        text-align: right;\n",
       "    }\n",
       "</style>\n",
       "<table border=\"1\" class=\"dataframe\">\n",
       "  <thead>\n",
       "    <tr style=\"text-align: right;\">\n",
       "      <th></th>\n",
       "      <th>City</th>\n",
       "      <th>Time</th>\n",
       "      <th>AQI</th>\n",
       "    </tr>\n",
       "  </thead>\n",
       "  <tbody>\n",
       "    <tr>\n",
       "      <th>0</th>\n",
       "      <td>Shanghai (上海)</td>\n",
       "      <td>2019-03-29 21:00:00</td>\n",
       "      <td>102</td>\n",
       "    </tr>\n",
       "  </tbody>\n",
       "</table>\n",
       "</div>"
      ],
      "text/plain": [
       "            City                 Time  AQI\n",
       "0  Shanghai (上海)  2019-03-29 21:00:00  102"
      ]
     },
     "execution_count": 53,
     "metadata": {},
     "output_type": "execute_result"
    }
   ],
   "source": [
    "df_collect = pd.DataFrame([[city_name, time, aqi]], columns=['City', 'Time', 'AQI'])\n",
    "df_collect"
   ]
  },
  {
   "cell_type": "code",
   "execution_count": null,
   "metadata": {},
   "outputs": [],
   "source": []
  }
 ],
 "metadata": {
  "kernelspec": {
   "display_name": "Python 3",
   "language": "python",
   "name": "python3"
  },
  "language_info": {
   "codemirror_mode": {
    "name": "ipython",
    "version": 3
   },
   "file_extension": ".py",
   "mimetype": "text/x-python",
   "name": "python",
   "nbconvert_exporter": "python",
   "pygments_lexer": "ipython3",
   "version": "3.6.7"
  }
 },
 "nbformat": 4,
 "nbformat_minor": 2
}

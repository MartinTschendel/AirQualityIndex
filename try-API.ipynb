{
 "cells": [
  {
   "cell_type": "code",
   "execution_count": 15,
   "metadata": {},
   "outputs": [],
   "source": [
    "import requests\n",
    "import json"
   ]
  },
  {
   "cell_type": "code",
   "execution_count": 19,
   "metadata": {},
   "outputs": [],
   "source": [
    "response = requests.get('https://api.waqi.info/feed/shanghai/?token=562ea3a50976d7d911c99b21b9fc459f45ef631c')\n",
    "data = response.json()"
   ]
  },
  {
   "cell_type": "code",
   "execution_count": 20,
   "metadata": {},
   "outputs": [
    {
     "data": {
      "text/plain": [
       "{'status': 'ok',\n",
       " 'data': {'aqi': 132,\n",
       "  'idx': 1437,\n",
       "  'attributions': [{'url': 'https://china.usembassy-china.org.cn/embassy-consulates/shanghai/air-quality-monitor-stateair/',\n",
       "    'name': 'U.S. Consulate Shanghai Air Quality Monitor'},\n",
       "   {'url': 'http://www.semc.gov.cn/',\n",
       "    'name': 'Shanghai Environment Monitoring Center(上海市环境监测中心)'},\n",
       "   {'url': 'http://106.37.208.233:20035/emcpublish/',\n",
       "    'name': 'China National Urban air quality real-time publishing platform (全国城市空气质量实时发布平台)'},\n",
       "   {'url': 'https://waqi.info/', 'name': 'World Air Quality Index Project'}],\n",
       "  'city': {'geo': [31.2047372, 121.4489017],\n",
       "   'name': 'Shanghai (上海)',\n",
       "   'url': 'https://aqicn.org/city/shanghai'},\n",
       "  'dominentpol': 'pm25',\n",
       "  'iaqi': {'co': {'v': 8.2},\n",
       "   'h': {'v': 90.8},\n",
       "   'no2': {'v': 34.3},\n",
       "   'o3': {'v': 24.8},\n",
       "   'p': {'v': 1009.6},\n",
       "   'pm10': {'v': 47},\n",
       "   'pm25': {'v': 132},\n",
       "   'so2': {'v': 2.6},\n",
       "   't': {'v': 13.6},\n",
       "   'w': {'v': 0.3}},\n",
       "  'time': {'s': '2019-03-28 20:00:00', 'tz': '+08:00', 'v': 1553803200},\n",
       "  'debug': {'sync': '2019-03-28T21:41:45+09:00'}}}"
      ]
     },
     "execution_count": 20,
     "metadata": {},
     "output_type": "execute_result"
    }
   ],
   "source": [
    "data"
   ]
  },
  {
   "cell_type": "code",
   "execution_count": null,
   "metadata": {},
   "outputs": [],
   "source": []
  }
 ],
 "metadata": {
  "kernelspec": {
   "display_name": "Python 3",
   "language": "python",
   "name": "python3"
  },
  "language_info": {
   "codemirror_mode": {
    "name": "ipython",
    "version": 3
   },
   "file_extension": ".py",
   "mimetype": "text/x-python",
   "name": "python",
   "nbconvert_exporter": "python",
   "pygments_lexer": "ipython3",
   "version": "3.6.7"
  }
 },
 "nbformat": 4,
 "nbformat_minor": 2
}

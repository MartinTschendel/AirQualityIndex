{
 "cells": [
  {
   "cell_type": "code",
   "execution_count": 1,
   "metadata": {},
   "outputs": [],
   "source": [
    "import requests\n",
    "import json\n",
    "import pandas as pd"
   ]
  },
  {
   "cell_type": "code",
   "execution_count": 2,
   "metadata": {},
   "outputs": [
    {
     "data": {
      "text/html": [
       "<div>\n",
       "<style scoped>\n",
       "    .dataframe tbody tr th:only-of-type {\n",
       "        vertical-align: middle;\n",
       "    }\n",
       "\n",
       "    .dataframe tbody tr th {\n",
       "        vertical-align: top;\n",
       "    }\n",
       "\n",
       "    .dataframe thead th {\n",
       "        text-align: right;\n",
       "    }\n",
       "</style>\n",
       "<table border=\"1\" class=\"dataframe\">\n",
       "  <thead>\n",
       "    <tr style=\"text-align: right;\">\n",
       "      <th></th>\n",
       "      <th>City</th>\n",
       "      <th>Time</th>\n",
       "      <th>AQI</th>\n",
       "    </tr>\n",
       "  </thead>\n",
       "  <tbody>\n",
       "    <tr>\n",
       "      <th>0</th>\n",
       "      <td>Shanghai (上海)</td>\n",
       "      <td>2019-04-02 20:00:00</td>\n",
       "      <td>99</td>\n",
       "    </tr>\n",
       "  </tbody>\n",
       "</table>\n",
       "</div>"
      ],
      "text/plain": [
       "            City                 Time  AQI\n",
       "0  Shanghai (上海)  2019-04-02 20:00:00   99"
      ]
     },
     "execution_count": 2,
     "metadata": {},
     "output_type": "execute_result"
    }
   ],
   "source": [
    "response = requests.get('https://api.waqi.info/feed/shanghai/?token=562ea3a50976d7d911c99b21b9fc459f45ef631c')\n",
    "data = response.json()\n",
    "aqi = data['data']['aqi']\n",
    "city_name = data['data']['city']['name']\n",
    "time_str = data['data']['time']['s']\n",
    "#df = pd.DataFrame()\n",
    "df_collect = pd.DataFrame([[city_name, time_str, aqi]], columns=['City', 'Time', 'AQI'])\n",
    "#df.append(df_collect)\n",
    "df_collect"
   ]
  },
  {
   "cell_type": "code",
   "execution_count": 6,
   "metadata": {},
   "outputs": [
    {
     "data": {
      "text/html": [
       "<div>\n",
       "<style scoped>\n",
       "    .dataframe tbody tr th:only-of-type {\n",
       "        vertical-align: middle;\n",
       "    }\n",
       "\n",
       "    .dataframe tbody tr th {\n",
       "        vertical-align: top;\n",
       "    }\n",
       "\n",
       "    .dataframe thead th {\n",
       "        text-align: right;\n",
       "    }\n",
       "</style>\n",
       "<table border=\"1\" class=\"dataframe\">\n",
       "  <thead>\n",
       "    <tr style=\"text-align: right;\">\n",
       "      <th></th>\n",
       "      <th>0</th>\n",
       "      <th>1</th>\n",
       "      <th>2</th>\n",
       "      <th>AQI</th>\n",
       "      <th>City</th>\n",
       "      <th>Time</th>\n",
       "    </tr>\n",
       "  </thead>\n",
       "  <tbody>\n",
       "    <tr>\n",
       "      <th>0</th>\n",
       "      <td>Shanghai (上海)</td>\n",
       "      <td>2019-04-02 20:00:00</td>\n",
       "      <td>99.0</td>\n",
       "      <td>NaN</td>\n",
       "      <td>NaN</td>\n",
       "      <td>NaN</td>\n",
       "    </tr>\n",
       "    <tr>\n",
       "      <th>0</th>\n",
       "      <td>Shanghai (上海)</td>\n",
       "      <td>2019-04-02 20:00:00</td>\n",
       "      <td>99.0</td>\n",
       "      <td>NaN</td>\n",
       "      <td>NaN</td>\n",
       "      <td>NaN</td>\n",
       "    </tr>\n",
       "    <tr>\n",
       "      <th>0</th>\n",
       "      <td>Shanghai (上海)</td>\n",
       "      <td>2019-04-02 20:00:00</td>\n",
       "      <td>99.0</td>\n",
       "      <td>NaN</td>\n",
       "      <td>NaN</td>\n",
       "      <td>NaN</td>\n",
       "    </tr>\n",
       "  </tbody>\n",
       "</table>\n",
       "</div>"
      ],
      "text/plain": [
       "               0                    1     2  AQI City Time\n",
       "0  Shanghai (上海)  2019-04-02 20:00:00  99.0  NaN  NaN  NaN\n",
       "0  Shanghai (上海)  2019-04-02 20:00:00  99.0  NaN  NaN  NaN\n",
       "0  Shanghai (上海)  2019-04-02 20:00:00  99.0  NaN  NaN  NaN"
      ]
     },
     "execution_count": 6,
     "metadata": {},
     "output_type": "execute_result"
    }
   ],
   "source": [
    "#https://stackoverflow.com/questions/474528/what-is-the-best-way-to-repeatedly-execute-a-function-every-x-seconds-in-python\n",
    "#https://stackoverflow.com/questions/16597265/appending-to-an-empty-data-frame-in-pandas\n",
    "#https://stackoverflow.com/questions/13784192/creating-an-empty-pandas-dataframe-then-filling-it/41529411#41529411\n",
    "import time\n",
    "\n",
    "col_names = ['City', 'Time', 'AQI']\n",
    "df = pd.DataFrame(columns = col_names)\n",
    "\n",
    "count = 0\n",
    "while int(count) < 3:\n",
    "    response = requests.get('https://api.waqi.info/feed/shanghai/?token=562ea3a50976d7d911c99b21b9fc459f45ef631c')\n",
    "    data = response.json()\n",
    "    aqi = data['data']['aqi']\n",
    "    city_name = data['data']['city']['name']\n",
    "    time_str = data['data']['time']['s']\n",
    "    df_collect = pd.DataFrame([[city_name, time_str, aqi]])\n",
    "    df = df.append(df_collect)\n",
    "    count = count + 1\n",
    "    time.sleep(5)\n",
    "df"
   ]
  },
  {
   "cell_type": "code",
   "execution_count": null,
   "metadata": {},
   "outputs": [],
   "source": []
  }
 ],
 "metadata": {
  "kernelspec": {
   "display_name": "Python 3",
   "language": "python",
   "name": "python3"
  },
  "language_info": {
   "codemirror_mode": {
    "name": "ipython",
    "version": 3
   },
   "file_extension": ".py",
   "mimetype": "text/x-python",
   "name": "python",
   "nbconvert_exporter": "python",
   "pygments_lexer": "ipython3",
   "version": "3.7.3"
  }
 },
 "nbformat": 4,
 "nbformat_minor": 2
}
